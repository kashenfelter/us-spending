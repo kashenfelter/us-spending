{
 "cells": [
  {
   "cell_type": "markdown",
   "metadata": {},
   "source": [
    "# Auditing Federal Contractors Part 1\n",
    "_By [Leon Yin](leonyin.org) Last Updated 2017-06-11_\n",
    "\n",
    "View this notebook in [NBViewer](http://nbviewer.jupyter.org/github/yinleon/us-spending/blob/master/0_get_data.ipynb) or [Github](https://github.com/yinleon/us-spending/blob/master/0_get_data.ipynb)\n",
    "\n",
    "This two part module will show you how to request data from USASpending.gov, store it as a tab-separated value (tsv), and perform some temporal and spatial analysis.\n",
    "\n",
    "I hope these two modules are clear enough to be used by Journalists, Laywers, and other folks who wish to use data to audit government contractors\n",
    "\n",
    "Please view part 2 on [NBViewer](http://nbviewer.jupyter.org/github/yinleon/us-spending/blob/master/1_analysis_methods.ipynb) or [Github](https://github.com/yinleon/us-spending/blob/master/1_analysis_methods.ipynb) "
   ]
  },
  {
   "cell_type": "markdown",
   "metadata": {},
   "source": [
    "## Downloading data from USA Spending\n",
    "This notebook describes how to download a annual records from the USASpending.gov website for a specific contractor.\n",
    "\n",
    "In this example we download all records for the Core Corrections Association of America (CCA), and all it's subsidiaries.\n",
    "\n",
    "Let's start by getting all the Python packages we used in this module first."
   ]
  },
  {
   "cell_type": "code",
   "execution_count": 5,
   "metadata": {
    "scrolled": true
   },
   "outputs": [],
   "source": [
    "%%sh\n",
    "pip install -r requirements.txt"
   ]
  },
  {
   "cell_type": "code",
   "execution_count": 21,
   "metadata": {
    "collapsed": true
   },
   "outputs": [],
   "source": [
    "%matplotlib inline\n",
    "import os\n",
    "from zipfile import ZipFile\n",
    "from multiprocessing import Pool\n",
    "import requests\n",
    "from io import BytesIO\n",
    "from itertools import repeat\n",
    "import datetime\n",
    "\n",
    "import pandas as pd"
   ]
  },
  {
   "cell_type": "code",
   "execution_count": 2,
   "metadata": {
    "collapsed": true
   },
   "outputs": [],
   "source": [
    "latest_update = '20170515'\n",
    "next_latest  = '20170115'\n",
    "\n",
    "year = 2017\n",
    "\n",
    "dep= 'All'"
   ]
  },
  {
   "cell_type": "code",
   "execution_count": 3,
   "metadata": {},
   "outputs": [
    {
     "data": {
      "text/plain": [
       "'http://download.usaspending.gov/data_archives/201705/tsv/{YEAR}_All_Contracts_Full_20170515.tsv.zip'"
      ]
     },
     "execution_count": 3,
     "metadata": {},
     "output_type": "execute_result"
    }
   ],
   "source": [
    "url = ('http://download.usaspending.gov/data_archives/{UP_MONTH}/'\n",
    "       'tsv/{{YEAR}}_{DEP}_Contracts_Full_{UP_DATE}.tsv.zip'.format(\n",
    "            UP_MONTH=latest_update[:-2], DEP=dep, UP_DATE=latest_update))\n",
    "url"
   ]
  },
  {
   "cell_type": "code",
   "execution_count": 4,
   "metadata": {
    "collapsed": true
   },
   "outputs": [],
   "source": [
    "# for files that were not updated by the date above...\n",
    "url_legacy = ('http://download.usaspending.gov/data_archives/{UP_MONTH}/'\n",
    "              'tsv/{{YEAR}}_{DEP}_Contracts_Full_{UP_DATE}.tsv.zip'.format(\n",
    "                  UP_MONTH=next_latest[:-2], DEP=dep, UP_DATE=next_latest))"
   ]
  },
  {
   "cell_type": "code",
   "execution_count": 5,
   "metadata": {
    "collapsed": true
   },
   "outputs": [],
   "source": [
    "data_in = 'data_in/spending'"
   ]
  },
  {
   "cell_type": "code",
   "execution_count": 6,
   "metadata": {
    "collapsed": true
   },
   "outputs": [],
   "source": [
    "# these are the years we are interested in:\n",
    "start = 2000\n",
    "end = 2017\n",
    "years = [y for y in range(start, end + 1)]"
   ]
  },
  {
   "cell_type": "code",
   "execution_count": 7,
   "metadata": {
    "collapsed": true
   },
   "outputs": [],
   "source": [
    "# There are the aliases for each company, this is case insensitive, \n",
    "# but need to be enclose in a single or double quote!\n",
    "companies =  ['Corrections Corporation of America', \n",
    "              'CoreCivic',\n",
    "              'TransCor']"
   ]
  },
  {
   "cell_type": "code",
   "execution_count": 9,
   "metadata": {
    "collapsed": true
   },
   "outputs": [],
   "source": [
    "def load_and_sift(year, regex):\n",
    "    '''Downloads zipped tsv file from: \n",
    "    https://www.usaspending.gov/DownloadCenter/Pages/dataarchives.aspx\n",
    "    to a requests object.\n",
    "    \n",
    "    Expands zipfile and reads each file, chunkwise into Pandas dataframes.\n",
    "    The dataframe (df) is filtered by the conpanies' RegEx expression.\n",
    "    \n",
    "    Args:\n",
    "       year (int):  The fiscal year of records to load.\n",
    "       regex (string): A regex expression of company name(s).\n",
    "    \n",
    "    Returns:\n",
    "       df: a Pandas Dataframe containing records from the given.\n",
    "    '''\n",
    "    print(year)\n",
    "    r = requests.get(url.format(YEAR=year))\n",
    "    last_update = datetime.datetime.strptime(latest_update, '%Y%m%d')\n",
    "    \n",
    "    if r.status_code == 404: # if url doesn't work, use the legacy url.\n",
    "        r = requests.get(url_legacy.format(YEAR=year))\n",
    "        last_update = datetime.datetime.strptime(next_latest, '%Y%m%d')\n",
    "            \n",
    "    if r.status_code == 200: # make sure the download was successful.\n",
    "                     \n",
    "        # the downloaded stream is a zip archive\n",
    "        zipfile = ZipFile(BytesIO(r.content))        \n",
    "        df_final = pd.DataFrame()\n",
    "        \n",
    "        # for each file in the zip archive\n",
    "        for f in zipfile.namelist():              \n",
    "            # process the file in dataframe chunks!\n",
    "            for df in pd.read_csv(zipfile.open(f), sep='\\t',\n",
    "                                  chunksize=100000, low_memory=False):\n",
    " \n",
    "                # filter the dataframe chunk for active vendors\n",
    "                # and relevant company names.\n",
    "                df = df[(~df['vendorname'].isnull()) &\n",
    "                        (df['vendorname'].str.contains(regex, case=False))]\n",
    "                \n",
    "                # some date tags...\n",
    "                df['lastupdate'] = last_update\n",
    "                df['contract_year'] = year\n",
    "                df['filename'] = f\n",
    "                df['search_terms'] = regex\n",
    "                                \n",
    "                df_final = df_final.append(df, ignore_index=True)\n",
    "        \n",
    "        return df_final\n",
    "    \n",
    "    else:\n",
    "        raise \"bad request\""
   ]
  },
  {
   "cell_type": "markdown",
   "metadata": {},
   "source": [
    "This next step might take a while.\n",
    "It's expedited using `pool`, which parallelizes the task\n",
    "\n",
    "If is equivalent to\n",
    "\n",
    "```\n",
    "for year, co in zip(years, repeat('|'.join(companies))):\n",
    "    df_list += load_and_sift(year, co)\n",
    "df = pd.concat(df_list, ignore_index=True)  \n",
    "```"
   ]
  },
  {
   "cell_type": "code",
   "execution_count": 16,
   "metadata": {},
   "outputs": [],
   "source": [
    "with Pool() as pool:\n",
    "    df_list = pool.starmap(load_and_sift, zip(years, repeat('|'.join(companies))))\n",
    "df = pd.concat(df_list, ignore_index=True)"
   ]
  },
  {
   "cell_type": "markdown",
   "metadata": {},
   "source": [
    "We can take a peek at 5 random records here:"
   ]
  },
  {
   "cell_type": "code",
   "execution_count": 9,
   "metadata": {},
   "outputs": [
    {
     "data": {
      "text/html": [
       "<div>\n",
       "<table border=\"1\" class=\"dataframe\">\n",
       "  <thead>\n",
       "    <tr style=\"text-align: right;\">\n",
       "      <th></th>\n",
       "      <th>unique_transaction_id</th>\n",
       "      <th>transaction_status</th>\n",
       "      <th>dollarsobligated</th>\n",
       "      <th>baseandexercisedoptionsvalue</th>\n",
       "      <th>baseandalloptionsvalue</th>\n",
       "      <th>maj_agency_cat</th>\n",
       "      <th>mod_agency</th>\n",
       "      <th>maj_fund_agency_cat</th>\n",
       "      <th>contractingofficeagencyid</th>\n",
       "      <th>contractingofficeid</th>\n",
       "      <th>...</th>\n",
       "      <th>prime_awardee_executive4</th>\n",
       "      <th>prime_awardee_executive4_compensation</th>\n",
       "      <th>prime_awardee_executive5</th>\n",
       "      <th>prime_awardee_executive5_compensation</th>\n",
       "      <th>interagencycontractingauthority</th>\n",
       "      <th>last_modified_date</th>\n",
       "      <th>lastupdate</th>\n",
       "      <th>contract_year</th>\n",
       "      <th>filename</th>\n",
       "      <th>search_terms</th>\n",
       "    </tr>\n",
       "  </thead>\n",
       "  <tbody>\n",
       "    <tr>\n",
       "      <th>782</th>\n",
       "      <td>43e9c36cedfb72813511fe13fc39d742</td>\n",
       "      <td>active</td>\n",
       "      <td>0.00</td>\n",
       "      <td>0.0</td>\n",
       "      <td>0.0</td>\n",
       "      <td>1500: JUSTICE, DEPARTMENT OF</td>\n",
       "      <td>1501: OFFICES, BOARDS AND DIVISIONS</td>\n",
       "      <td>1500: JUSTICE, DEPARTMENT OF</td>\n",
       "      <td>1501: OFFICES, BOARDS AND DIVISIONS</td>\n",
       "      <td>OFDT: OFFICE OF THE FEDERAL DETENTION TRUSTEE</td>\n",
       "      <td>...</td>\n",
       "      <td>NaN</td>\n",
       "      <td>0.0</td>\n",
       "      <td>NaN</td>\n",
       "      <td>0.0</td>\n",
       "      <td>X: Not Applicable</td>\n",
       "      <td>01/09/2012</td>\n",
       "      <td>2017-04-15</td>\n",
       "      <td>2012</td>\n",
       "      <td>datafeeds\\2012_All_Contracts_Full_20170415.tsv</td>\n",
       "      <td>Corrections Corporation of America|CoreCivic|T...</td>\n",
       "    </tr>\n",
       "    <tr>\n",
       "      <th>280</th>\n",
       "      <td>4871c9c2bf29ef438ad8c8e2a3a22926</td>\n",
       "      <td>active</td>\n",
       "      <td>48073.00</td>\n",
       "      <td>48073.0</td>\n",
       "      <td>48073.0</td>\n",
       "      <td>9700: DEPT OF DEFENSE</td>\n",
       "      <td>5700: DEPT OF THE AIR FORCE</td>\n",
       "      <td>9700: DEPT OF DEFENSE</td>\n",
       "      <td>5700: DEPT OF THE AIR FORCE</td>\n",
       "      <td>FA5613: FA5613  700 CONS LGC</td>\n",
       "      <td>...</td>\n",
       "      <td>NaN</td>\n",
       "      <td>0.0</td>\n",
       "      <td>NaN</td>\n",
       "      <td>0.0</td>\n",
       "      <td>X: Not Applicable</td>\n",
       "      <td>04/18/2008</td>\n",
       "      <td>2017-04-15</td>\n",
       "      <td>2008</td>\n",
       "      <td>datafeeds\\2008_All_Contracts_Full_20170415.tsv</td>\n",
       "      <td>Corrections Corporation of America|CoreCivic|T...</td>\n",
       "    </tr>\n",
       "    <tr>\n",
       "      <th>874</th>\n",
       "      <td>4ec36c4a3a56e151c7e7f89d77f0be77</td>\n",
       "      <td>active</td>\n",
       "      <td>0.00</td>\n",
       "      <td>0.0</td>\n",
       "      <td>0.0</td>\n",
       "      <td>1500: JUSTICE, DEPARTMENT OF</td>\n",
       "      <td>1501: OFFICES, BOARDS AND DIVISIONS</td>\n",
       "      <td>1500: JUSTICE, DEPARTMENT OF</td>\n",
       "      <td>1501: OFFICES, BOARDS AND DIVISIONS</td>\n",
       "      <td>OFDT: OFFICE OF THE FEDERAL DETENTION TRUSTEE</td>\n",
       "      <td>...</td>\n",
       "      <td>NaN</td>\n",
       "      <td>0.0</td>\n",
       "      <td>NaN</td>\n",
       "      <td>0.0</td>\n",
       "      <td>X: Not Applicable</td>\n",
       "      <td>06/18/2013</td>\n",
       "      <td>2017-04-15</td>\n",
       "      <td>2012</td>\n",
       "      <td>datafeeds\\2012_All_Contracts_Full_20170415.tsv</td>\n",
       "      <td>Corrections Corporation of America|CoreCivic|T...</td>\n",
       "    </tr>\n",
       "    <tr>\n",
       "      <th>919</th>\n",
       "      <td>20204082b037e602ef22bad3c6d7a918</td>\n",
       "      <td>active</td>\n",
       "      <td>1522136.00</td>\n",
       "      <td>1522136.0</td>\n",
       "      <td>1522136.0</td>\n",
       "      <td>1500: JUSTICE, DEPARTMENT OF</td>\n",
       "      <td>1501: OFFICES, BOARDS AND DIVISIONS</td>\n",
       "      <td>1500: JUSTICE, DEPARTMENT OF</td>\n",
       "      <td>1501: OFFICES, BOARDS AND DIVISIONS</td>\n",
       "      <td>OFDT: OFFICE OF THE FEDERAL DETENTION TRUSTEE</td>\n",
       "      <td>...</td>\n",
       "      <td>NaN</td>\n",
       "      <td>0.0</td>\n",
       "      <td>NaN</td>\n",
       "      <td>0.0</td>\n",
       "      <td>X: Not Applicable</td>\n",
       "      <td>04/26/2013</td>\n",
       "      <td>2017-04-15</td>\n",
       "      <td>2013</td>\n",
       "      <td>datafeeds\\2013_All_Contracts_Full_20170415.tsv</td>\n",
       "      <td>Corrections Corporation of America|CoreCivic|T...</td>\n",
       "    </tr>\n",
       "    <tr>\n",
       "      <th>1306</th>\n",
       "      <td>3d423442685d42d99a05519784779622</td>\n",
       "      <td>active</td>\n",
       "      <td>-2087743.31</td>\n",
       "      <td>0.0</td>\n",
       "      <td>0.0</td>\n",
       "      <td>1500: Department of Justice</td>\n",
       "      <td>1544: U.S. MARSHALS SERVICE</td>\n",
       "      <td>1500: Department of Justice</td>\n",
       "      <td>1544: U.S. MARSHALS SERVICE</td>\n",
       "      <td>HQ018: OFFICE OF CONTRACTS&amp;AGREEMENTS</td>\n",
       "      <td>...</td>\n",
       "      <td>NaN</td>\n",
       "      <td>0.0</td>\n",
       "      <td>NaN</td>\n",
       "      <td>0.0</td>\n",
       "      <td>X: NOT APPLICABLE</td>\n",
       "      <td>12/07/2015</td>\n",
       "      <td>2017-04-15</td>\n",
       "      <td>2016</td>\n",
       "      <td>datafeeds\\2016_All_Contracts_Full_20170415.tsv</td>\n",
       "      <td>Corrections Corporation of America|CoreCivic|T...</td>\n",
       "    </tr>\n",
       "  </tbody>\n",
       "</table>\n",
       "<p>5 rows × 229 columns</p>\n",
       "</div>"
      ],
      "text/plain": [
       "                 unique_transaction_id transaction_status  dollarsobligated  \\\n",
       "782   43e9c36cedfb72813511fe13fc39d742             active              0.00   \n",
       "280   4871c9c2bf29ef438ad8c8e2a3a22926             active          48073.00   \n",
       "874   4ec36c4a3a56e151c7e7f89d77f0be77             active              0.00   \n",
       "919   20204082b037e602ef22bad3c6d7a918             active        1522136.00   \n",
       "1306  3d423442685d42d99a05519784779622             active       -2087743.31   \n",
       "\n",
       "      baseandexercisedoptionsvalue  baseandalloptionsvalue  \\\n",
       "782                            0.0                     0.0   \n",
       "280                        48073.0                 48073.0   \n",
       "874                            0.0                     0.0   \n",
       "919                      1522136.0               1522136.0   \n",
       "1306                           0.0                     0.0   \n",
       "\n",
       "                    maj_agency_cat                           mod_agency  \\\n",
       "782   1500: JUSTICE, DEPARTMENT OF  1501: OFFICES, BOARDS AND DIVISIONS   \n",
       "280          9700: DEPT OF DEFENSE          5700: DEPT OF THE AIR FORCE   \n",
       "874   1500: JUSTICE, DEPARTMENT OF  1501: OFFICES, BOARDS AND DIVISIONS   \n",
       "919   1500: JUSTICE, DEPARTMENT OF  1501: OFFICES, BOARDS AND DIVISIONS   \n",
       "1306   1500: Department of Justice          1544: U.S. MARSHALS SERVICE   \n",
       "\n",
       "               maj_fund_agency_cat            contractingofficeagencyid  \\\n",
       "782   1500: JUSTICE, DEPARTMENT OF  1501: OFFICES, BOARDS AND DIVISIONS   \n",
       "280          9700: DEPT OF DEFENSE          5700: DEPT OF THE AIR FORCE   \n",
       "874   1500: JUSTICE, DEPARTMENT OF  1501: OFFICES, BOARDS AND DIVISIONS   \n",
       "919   1500: JUSTICE, DEPARTMENT OF  1501: OFFICES, BOARDS AND DIVISIONS   \n",
       "1306   1500: Department of Justice          1544: U.S. MARSHALS SERVICE   \n",
       "\n",
       "                                contractingofficeid  \\\n",
       "782   OFDT: OFFICE OF THE FEDERAL DETENTION TRUSTEE   \n",
       "280                    FA5613: FA5613  700 CONS LGC   \n",
       "874   OFDT: OFFICE OF THE FEDERAL DETENTION TRUSTEE   \n",
       "919   OFDT: OFFICE OF THE FEDERAL DETENTION TRUSTEE   \n",
       "1306          HQ018: OFFICE OF CONTRACTS&AGREEMENTS   \n",
       "\n",
       "                            ...                          \\\n",
       "782                         ...                           \n",
       "280                         ...                           \n",
       "874                         ...                           \n",
       "919                         ...                           \n",
       "1306                        ...                           \n",
       "\n",
       "     prime_awardee_executive4 prime_awardee_executive4_compensation  \\\n",
       "782                       NaN                                   0.0   \n",
       "280                       NaN                                   0.0   \n",
       "874                       NaN                                   0.0   \n",
       "919                       NaN                                   0.0   \n",
       "1306                      NaN                                   0.0   \n",
       "\n",
       "     prime_awardee_executive5 prime_awardee_executive5_compensation  \\\n",
       "782                       NaN                                   0.0   \n",
       "280                       NaN                                   0.0   \n",
       "874                       NaN                                   0.0   \n",
       "919                       NaN                                   0.0   \n",
       "1306                      NaN                                   0.0   \n",
       "\n",
       "     interagencycontractingauthority last_modified_date  lastupdate  \\\n",
       "782                X: Not Applicable         01/09/2012  2017-04-15   \n",
       "280                X: Not Applicable         04/18/2008  2017-04-15   \n",
       "874                X: Not Applicable         06/18/2013  2017-04-15   \n",
       "919                X: Not Applicable         04/26/2013  2017-04-15   \n",
       "1306               X: NOT APPLICABLE         12/07/2015  2017-04-15   \n",
       "\n",
       "     contract_year                                        filename  \\\n",
       "782           2012  datafeeds\\2012_All_Contracts_Full_20170415.tsv   \n",
       "280           2008  datafeeds\\2008_All_Contracts_Full_20170415.tsv   \n",
       "874           2012  datafeeds\\2012_All_Contracts_Full_20170415.tsv   \n",
       "919           2013  datafeeds\\2013_All_Contracts_Full_20170415.tsv   \n",
       "1306          2016  datafeeds\\2016_All_Contracts_Full_20170415.tsv   \n",
       "\n",
       "                                           search_terms  \n",
       "782   Corrections Corporation of America|CoreCivic|T...  \n",
       "280   Corrections Corporation of America|CoreCivic|T...  \n",
       "874   Corrections Corporation of America|CoreCivic|T...  \n",
       "919   Corrections Corporation of America|CoreCivic|T...  \n",
       "1306  Corrections Corporation of America|CoreCivic|T...  \n",
       "\n",
       "[5 rows x 229 columns]"
      ]
     },
     "execution_count": 9,
     "metadata": {},
     "output_type": "execute_result"
    }
   ],
   "source": [
    "df.sample(5)"
   ]
  },
  {
   "cell_type": "markdown",
   "metadata": {},
   "source": [
    "There are a lot of columns! So it might to hard to know what you're after."
   ]
  },
  {
   "cell_type": "code",
   "execution_count": 10,
   "metadata": {},
   "outputs": [
    {
     "data": {
      "text/plain": [
       "229"
      ]
     },
     "execution_count": 10,
     "metadata": {},
     "output_type": "execute_result"
    }
   ],
   "source": [
    "len(df.columns)"
   ]
  },
  {
   "cell_type": "markdown",
   "metadata": {},
   "source": [
    "save the data to a gzipped tab-separated value document (tsv)"
   ]
  },
  {
   "cell_type": "code",
   "execution_count": 15,
   "metadata": {},
   "outputs": [
    {
     "name": "stdout",
     "output_type": "stream",
     "text": [
      "Data saved to data_in/spending_corrections_corporation_of_america.tsv.gz\n"
     ]
    }
   ],
   "source": [
    "outfile = data_in + '_' + companies[0].replace(' ', '_').lower() + '.tsv.gz'\n",
    "df.to_csv(outfile, sep='\\t', compression='gzip', index=False)\n",
    "print(\"Data saved to {}\".format(outfile))"
   ]
  },
  {
   "cell_type": "markdown",
   "metadata": {},
   "source": [
    "Now we're ready to perform some analysis!\n",
    "\n",
    "[See Part 2 here!](http://nbviewer.jupyter.org/github/yinleon/us-spending/blob/master/1_analysis_methods.ipynb)"
   ]
  }
 ],
 "metadata": {
  "kernelspec": {
   "display_name": "Python 3",
   "language": "python",
   "name": "python3"
  },
  "language_info": {
   "codemirror_mode": {
    "name": "ipython",
    "version": 2
   },
   "file_extension": ".py",
   "mimetype": "text/x-python",
   "name": "python",
   "nbconvert_exporter": "python",
   "pygments_lexer": "ipython2",
   "version": "2.7.13"
  }
 },
 "nbformat": 4,
 "nbformat_minor": 2
}
