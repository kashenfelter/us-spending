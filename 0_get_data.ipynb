{
 "cells": [
  {
   "cell_type": "code",
   "execution_count": 1,
   "metadata": {
    "collapsed": true,
    "deletable": true,
    "editable": true
   },
   "outputs": [],
   "source": [
    "%matplotlib inline\n",
    "import os\n",
    "from zipfile import ZipFile\n",
    "from multiprocessing import Pool\n",
    "import requests\n",
    "from io import BytesIO\n",
    "from itertools import repeat\n",
    "import datetime\n",
    "\n",
    "import pandas as pd"
   ]
  },
  {
   "cell_type": "code",
   "execution_count": 2,
   "metadata": {
    "collapsed": true,
    "deletable": true,
    "editable": true
   },
   "outputs": [],
   "source": [
    "latest_update = '20170415'\n",
    "next_latest  = '20170115'\n",
    "\n",
    "year = 2017\n",
    "\n",
    "dep= 'All'"
   ]
  },
  {
   "cell_type": "code",
   "execution_count": 3,
   "metadata": {
    "collapsed": false,
    "deletable": true,
    "editable": true
   },
   "outputs": [
    {
     "data": {
      "text/plain": [
       "'http://download.usaspending.gov/data_archives/201704/tsv/{YEAR}_All_Contracts_Full_20170415.tsv.zip'"
      ]
     },
     "execution_count": 3,
     "metadata": {},
     "output_type": "execute_result"
    }
   ],
   "source": [
    "url = ('http://download.usaspending.gov/data_archives/{UP_MONTH}/'\n",
    "       'tsv/{{YEAR}}_{DEP}_Contracts_Full_{UP_DATE}.tsv.zip'.format(\n",
    "            UP_MONTH=latest_update[:-2], DEP=dep, UP_DATE=latest_update))\n",
    "url"
   ]
  },
  {
   "cell_type": "code",
   "execution_count": 4,
   "metadata": {
    "collapsed": true,
    "deletable": true,
    "editable": true
   },
   "outputs": [],
   "source": [
    "url_legacy = ('http://download.usaspending.gov/data_archives/{UP_MONTH}/'\n",
    "              'tsv/{{YEAR}}_{DEP}_Contracts_Full_{UP_DATE}.tsv.zip'.format(\n",
    "                  UP_MONTH=next_latest[:-2], DEP=dep, UP_DATE=next_latest))"
   ]
  },
  {
   "cell_type": "code",
   "execution_count": 5,
   "metadata": {
    "collapsed": true,
    "deletable": true,
    "editable": true
   },
   "outputs": [],
   "source": [
    "data_in = 'data_in/spending'"
   ]
  },
  {
   "cell_type": "code",
   "execution_count": 6,
   "metadata": {
    "collapsed": true,
    "deletable": true,
    "editable": true
   },
   "outputs": [],
   "source": [
    "years = [y for y in range(2000, 2018)]"
   ]
  },
  {
   "cell_type": "code",
   "execution_count": 7,
   "metadata": {
    "collapsed": true,
    "deletable": true,
    "editable": true
   },
   "outputs": [],
   "source": [
    "companies =  ['Corrections Corporation of America', \n",
    "              'CoreCivic',\n",
    "              'TransCor']"
   ]
  },
  {
   "cell_type": "code",
   "execution_count": 36,
   "metadata": {
    "collapsed": true,
    "deletable": true,
    "editable": true
   },
   "outputs": [],
   "source": [
    "companies = ['palantir']"
   ]
  },
  {
   "cell_type": "code",
   "execution_count": 8,
   "metadata": {
    "collapsed": true,
    "deletable": true,
    "editable": true
   },
   "outputs": [],
   "source": [
    "def search_company(row):\n",
    "    co = row['vendorname']\n",
    "    if company_meta.get(co):\n",
    "        company_meta[co] += row['dollarsobligated']\n",
    "    else:\n",
    "        company_meta[co] = row['dollarsobligated']"
   ]
  },
  {
   "cell_type": "code",
   "execution_count": 9,
   "metadata": {
    "collapsed": true,
    "deletable": true,
    "editable": true
   },
   "outputs": [],
   "source": [
    "def load_and_sift(year, regex):\n",
    "    '''Downloads zipped tsv file from: \n",
    "    https://www.usaspending.gov/DownloadCenter/Pages/dataarchives.aspx\n",
    "    to a requests object.\n",
    "    \n",
    "    Expands zipfile and reads each file, chunkwise into Pandas dataframes.\n",
    "    The dataframe (df) is filtered by the conpanies' RegEx expression.\n",
    "    \n",
    "    Args:\n",
    "       year (int):  The fiscal year of records to load.\n",
    "       regex (string): A regex expression of company name(s).\n",
    "    \n",
    "    Returns:\n",
    "       df: a Pandas Dataframe containing records from the given.\n",
    "    '''\n",
    "    print(year)\n",
    "    r = requests.get(url.format(YEAR=year))\n",
    "    last_update = datetime.datetime.strptime(latest_update, '%Y%m%d')\n",
    "    \n",
    "    if r.status_code == 404: # if url doesn't work, use the legacy url.\n",
    "        r = requests.get(url_legacy.format(YEAR=year))\n",
    "        last_update = datetime.datetime.strptime(next_latest, '%Y%m%d')\n",
    "            \n",
    "    if r.status_code == 200: # make sure the download was successful.\n",
    "                     \n",
    "        # the downloaded stream is a zip archive\n",
    "        zipfile = ZipFile(BytesIO(r.content))        \n",
    "        df_final = pd.DataFrame()\n",
    "        \n",
    "        # for each file in the zip archive\n",
    "        for f in zipfile.namelist():              \n",
    "            # process the file in dataframe chunks!\n",
    "            for df in pd.read_csv(zipfile.open(f), sep='\\t',\n",
    "                                  chunksize=100000, low_memory=False):\n",
    " \n",
    "                # filter the dataframe chunk for active vendors\n",
    "                # and relevant company names.\n",
    "                df = df[(~df['vendorname'].isnull()) &\n",
    "                        (df['vendorname'].str.contains(regex, case=False))]\n",
    "                \n",
    "                # some date tags...\n",
    "                df['lastupdate'] = last_update\n",
    "                df['contract_year'] = year\n",
    "                df['filename'] = f\n",
    "                df['search_terms'] = regex\n",
    "                                \n",
    "                df_final = df_final.append(df, ignore_index=True)\n",
    "        \n",
    "        return df_final\n",
    "    \n",
    "    else:\n",
    "        raise \"bad request\""
   ]
  },
  {
   "cell_type": "code",
   "execution_count": 10,
   "metadata": {
    "collapsed": false,
    "deletable": true,
    "editable": true
   },
   "outputs": [
    {
     "name": "stdout",
     "output_type": "stream",
     "text": [
      "2004\n",
      "2000\n",
      "2003\n",
      "2006\n",
      "2005\n",
      "2008\n",
      "2001\n",
      "2009\n",
      "2010\n",
      "2012\n",
      "2011\n",
      "2016\n",
      "2002\n",
      "2017\n",
      "2014\n",
      "2013\n",
      "2007\n",
      "2015\n"
     ]
    }
   ],
   "source": [
    "with Pool() as pool:\n",
    "    df_list = pool.starmap(load_and_sift, zip(years, repeat('|'.join(companies))))\n",
    "df = pd.concat(df_list, ignore_index=True)"
   ]
  },
  {
   "cell_type": "code",
   "execution_count": 11,
   "metadata": {
    "collapsed": false,
    "deletable": true,
    "editable": true
   },
   "outputs": [
    {
     "data": {
      "text/html": [
       "<div>\n",
       "<table border=\"1\" class=\"dataframe\">\n",
       "  <thead>\n",
       "    <tr style=\"text-align: right;\">\n",
       "      <th></th>\n",
       "      <th>unique_transaction_id</th>\n",
       "      <th>transaction_status</th>\n",
       "      <th>dollarsobligated</th>\n",
       "      <th>baseandexercisedoptionsvalue</th>\n",
       "      <th>baseandalloptionsvalue</th>\n",
       "      <th>maj_agency_cat</th>\n",
       "      <th>mod_agency</th>\n",
       "      <th>maj_fund_agency_cat</th>\n",
       "      <th>contractingofficeagencyid</th>\n",
       "      <th>contractingofficeid</th>\n",
       "      <th>...</th>\n",
       "      <th>prime_awardee_executive4</th>\n",
       "      <th>prime_awardee_executive4_compensation</th>\n",
       "      <th>prime_awardee_executive5</th>\n",
       "      <th>prime_awardee_executive5_compensation</th>\n",
       "      <th>interagencycontractingauthority</th>\n",
       "      <th>last_modified_date</th>\n",
       "      <th>lastupdate</th>\n",
       "      <th>contract_year</th>\n",
       "      <th>filename</th>\n",
       "      <th>search_terms</th>\n",
       "    </tr>\n",
       "  </thead>\n",
       "  <tbody>\n",
       "    <tr>\n",
       "      <th>181</th>\n",
       "      <td>ae4c451d26b4d35ac362fca5d1db2330</td>\n",
       "      <td>active</td>\n",
       "      <td>2500.78</td>\n",
       "      <td>2500.78</td>\n",
       "      <td>2500.78</td>\n",
       "      <td>4700: GENERAL SERVICES ADMINISTRATION</td>\n",
       "      <td>4740: PUBLIC BUILDINGS SERVICE</td>\n",
       "      <td>:</td>\n",
       "      <td>4740: PUBLIC BUILDINGS SERVICE</td>\n",
       "      <td>HV000: GSA/PUBLIC BUILDINGS SERVICE</td>\n",
       "      <td>...</td>\n",
       "      <td>NaN</td>\n",
       "      <td>0.0</td>\n",
       "      <td>NaN</td>\n",
       "      <td>0.0</td>\n",
       "      <td>X: Not Applicable</td>\n",
       "      <td>05/19/2011</td>\n",
       "      <td>2017-04-15</td>\n",
       "      <td>2006</td>\n",
       "      <td>datafeeds\\2006_All_Contracts_Full_20170415.tsv</td>\n",
       "      <td>Corrections Corporation of America|CoreCivic|T...</td>\n",
       "    </tr>\n",
       "    <tr>\n",
       "      <th>1360</th>\n",
       "      <td>1c6b0509968f4426a45b5d22b46042d5</td>\n",
       "      <td>active</td>\n",
       "      <td>0.00</td>\n",
       "      <td>0.00</td>\n",
       "      <td>0.00</td>\n",
       "      <td>1500: Department of Justice</td>\n",
       "      <td>1544: U.S. MARSHALS SERVICE</td>\n",
       "      <td>1500: Department of Justice</td>\n",
       "      <td>1544: U.S. MARSHALS SERVICE</td>\n",
       "      <td>15M400: U.S. DEPT OF JUSTICE, USMS</td>\n",
       "      <td>...</td>\n",
       "      <td>NaN</td>\n",
       "      <td>0.0</td>\n",
       "      <td>NaN</td>\n",
       "      <td>0.0</td>\n",
       "      <td>X: NOT APPLICABLE</td>\n",
       "      <td>05/02/2016</td>\n",
       "      <td>2017-04-15</td>\n",
       "      <td>2016</td>\n",
       "      <td>datafeeds\\2016_All_Contracts_Full_20170415.tsv</td>\n",
       "      <td>Corrections Corporation of America|CoreCivic|T...</td>\n",
       "    </tr>\n",
       "    <tr>\n",
       "      <th>1337</th>\n",
       "      <td>21c28772a0af41ea8427e56eee947af4</td>\n",
       "      <td>active</td>\n",
       "      <td>-15286.56</td>\n",
       "      <td>-15286.56</td>\n",
       "      <td>-15286.56</td>\n",
       "      <td>1500: Department of Justice</td>\n",
       "      <td>1540: FEDERAL PRISON SYSTEM</td>\n",
       "      <td>1500: Department of Justice</td>\n",
       "      <td>1540: FEDERAL PRISON SYSTEM</td>\n",
       "      <td>70000: CENTRAL OFFICE</td>\n",
       "      <td>...</td>\n",
       "      <td>NaN</td>\n",
       "      <td>0.0</td>\n",
       "      <td>NaN</td>\n",
       "      <td>0.0</td>\n",
       "      <td>X: NOT APPLICABLE</td>\n",
       "      <td>02/18/2016</td>\n",
       "      <td>2017-04-15</td>\n",
       "      <td>2016</td>\n",
       "      <td>datafeeds\\2016_All_Contracts_Full_20170415.tsv</td>\n",
       "      <td>Corrections Corporation of America|CoreCivic|T...</td>\n",
       "    </tr>\n",
       "    <tr>\n",
       "      <th>1054</th>\n",
       "      <td>b74a05fb720e4af87ffe3019a8128426</td>\n",
       "      <td>active</td>\n",
       "      <td>0.00</td>\n",
       "      <td>0.00</td>\n",
       "      <td>0.00</td>\n",
       "      <td>1500: JUSTICE, DEPARTMENT OF</td>\n",
       "      <td>1501: OFFICES, BOARDS AND DIVISIONS</td>\n",
       "      <td>1500: JUSTICE, DEPARTMENT OF</td>\n",
       "      <td>1501: OFFICES, BOARDS AND DIVISIONS</td>\n",
       "      <td>OFDT: OFFICE OF THE FEDERAL DETENTION TRUSTEE</td>\n",
       "      <td>...</td>\n",
       "      <td>NaN</td>\n",
       "      <td>0.0</td>\n",
       "      <td>NaN</td>\n",
       "      <td>0.0</td>\n",
       "      <td>X: Not Applicable</td>\n",
       "      <td>02/24/2014</td>\n",
       "      <td>2017-04-15</td>\n",
       "      <td>2014</td>\n",
       "      <td>datafeeds\\2014_All_Contracts_Full_20170415.tsv</td>\n",
       "      <td>Corrections Corporation of America|CoreCivic|T...</td>\n",
       "    </tr>\n",
       "    <tr>\n",
       "      <th>1091</th>\n",
       "      <td>09fcbccb42cf7430a38791c2638d8fa7</td>\n",
       "      <td>active</td>\n",
       "      <td>13183928.58</td>\n",
       "      <td>13183928.58</td>\n",
       "      <td>13183928.58</td>\n",
       "      <td>7000: HOMELAND SECURITY, DEPARTMENT OF</td>\n",
       "      <td>7012: U.S. IMMIGRATION AND CUSTOMS ENFORCEMENT</td>\n",
       "      <td>7000: HOMELAND SECURITY, DEPARTMENT OF</td>\n",
       "      <td>7012: U.S. IMMIGRATION AND CUSTOMS ENFORCEMENT</td>\n",
       "      <td>DMDC0: DETENTION MANAGEMENT - DC OFFICE</td>\n",
       "      <td>...</td>\n",
       "      <td>NaN</td>\n",
       "      <td>0.0</td>\n",
       "      <td>NaN</td>\n",
       "      <td>0.0</td>\n",
       "      <td>X: Not Applicable</td>\n",
       "      <td>05/01/2014</td>\n",
       "      <td>2017-04-15</td>\n",
       "      <td>2014</td>\n",
       "      <td>datafeeds\\2014_All_Contracts_Full_20170415.tsv</td>\n",
       "      <td>Corrections Corporation of America|CoreCivic|T...</td>\n",
       "    </tr>\n",
       "  </tbody>\n",
       "</table>\n",
       "<p>5 rows × 229 columns</p>\n",
       "</div>"
      ],
      "text/plain": [
       "                 unique_transaction_id transaction_status  dollarsobligated  \\\n",
       "181   ae4c451d26b4d35ac362fca5d1db2330             active           2500.78   \n",
       "1360  1c6b0509968f4426a45b5d22b46042d5             active              0.00   \n",
       "1337  21c28772a0af41ea8427e56eee947af4             active         -15286.56   \n",
       "1054  b74a05fb720e4af87ffe3019a8128426             active              0.00   \n",
       "1091  09fcbccb42cf7430a38791c2638d8fa7             active       13183928.58   \n",
       "\n",
       "      baseandexercisedoptionsvalue  baseandalloptionsvalue  \\\n",
       "181                        2500.78                 2500.78   \n",
       "1360                          0.00                    0.00   \n",
       "1337                     -15286.56               -15286.56   \n",
       "1054                          0.00                    0.00   \n",
       "1091                   13183928.58             13183928.58   \n",
       "\n",
       "                              maj_agency_cat  \\\n",
       "181    4700: GENERAL SERVICES ADMINISTRATION   \n",
       "1360             1500: Department of Justice   \n",
       "1337             1500: Department of Justice   \n",
       "1054            1500: JUSTICE, DEPARTMENT OF   \n",
       "1091  7000: HOMELAND SECURITY, DEPARTMENT OF   \n",
       "\n",
       "                                          mod_agency  \\\n",
       "181                   4740: PUBLIC BUILDINGS SERVICE   \n",
       "1360                     1544: U.S. MARSHALS SERVICE   \n",
       "1337                     1540: FEDERAL PRISON SYSTEM   \n",
       "1054             1501: OFFICES, BOARDS AND DIVISIONS   \n",
       "1091  7012: U.S. IMMIGRATION AND CUSTOMS ENFORCEMENT   \n",
       "\n",
       "                         maj_fund_agency_cat  \\\n",
       "181                                        :   \n",
       "1360             1500: Department of Justice   \n",
       "1337             1500: Department of Justice   \n",
       "1054            1500: JUSTICE, DEPARTMENT OF   \n",
       "1091  7000: HOMELAND SECURITY, DEPARTMENT OF   \n",
       "\n",
       "                           contractingofficeagencyid  \\\n",
       "181                   4740: PUBLIC BUILDINGS SERVICE   \n",
       "1360                     1544: U.S. MARSHALS SERVICE   \n",
       "1337                     1540: FEDERAL PRISON SYSTEM   \n",
       "1054             1501: OFFICES, BOARDS AND DIVISIONS   \n",
       "1091  7012: U.S. IMMIGRATION AND CUSTOMS ENFORCEMENT   \n",
       "\n",
       "                                contractingofficeid  \\\n",
       "181             HV000: GSA/PUBLIC BUILDINGS SERVICE   \n",
       "1360             15M400: U.S. DEPT OF JUSTICE, USMS   \n",
       "1337                          70000: CENTRAL OFFICE   \n",
       "1054  OFDT: OFFICE OF THE FEDERAL DETENTION TRUSTEE   \n",
       "1091        DMDC0: DETENTION MANAGEMENT - DC OFFICE   \n",
       "\n",
       "                            ...                          \\\n",
       "181                         ...                           \n",
       "1360                        ...                           \n",
       "1337                        ...                           \n",
       "1054                        ...                           \n",
       "1091                        ...                           \n",
       "\n",
       "     prime_awardee_executive4 prime_awardee_executive4_compensation  \\\n",
       "181                       NaN                                   0.0   \n",
       "1360                      NaN                                   0.0   \n",
       "1337                      NaN                                   0.0   \n",
       "1054                      NaN                                   0.0   \n",
       "1091                      NaN                                   0.0   \n",
       "\n",
       "     prime_awardee_executive5 prime_awardee_executive5_compensation  \\\n",
       "181                       NaN                                   0.0   \n",
       "1360                      NaN                                   0.0   \n",
       "1337                      NaN                                   0.0   \n",
       "1054                      NaN                                   0.0   \n",
       "1091                      NaN                                   0.0   \n",
       "\n",
       "     interagencycontractingauthority last_modified_date lastupdate  \\\n",
       "181                X: Not Applicable         05/19/2011 2017-04-15   \n",
       "1360               X: NOT APPLICABLE         05/02/2016 2017-04-15   \n",
       "1337               X: NOT APPLICABLE         02/18/2016 2017-04-15   \n",
       "1054               X: Not Applicable         02/24/2014 2017-04-15   \n",
       "1091               X: Not Applicable         05/01/2014 2017-04-15   \n",
       "\n",
       "     contract_year                                        filename  \\\n",
       "181           2006  datafeeds\\2006_All_Contracts_Full_20170415.tsv   \n",
       "1360          2016  datafeeds\\2016_All_Contracts_Full_20170415.tsv   \n",
       "1337          2016  datafeeds\\2016_All_Contracts_Full_20170415.tsv   \n",
       "1054          2014  datafeeds\\2014_All_Contracts_Full_20170415.tsv   \n",
       "1091          2014  datafeeds\\2014_All_Contracts_Full_20170415.tsv   \n",
       "\n",
       "                                           search_terms  \n",
       "181   Corrections Corporation of America|CoreCivic|T...  \n",
       "1360  Corrections Corporation of America|CoreCivic|T...  \n",
       "1337  Corrections Corporation of America|CoreCivic|T...  \n",
       "1054  Corrections Corporation of America|CoreCivic|T...  \n",
       "1091  Corrections Corporation of America|CoreCivic|T...  \n",
       "\n",
       "[5 rows x 229 columns]"
      ]
     },
     "execution_count": 11,
     "metadata": {},
     "output_type": "execute_result"
    }
   ],
   "source": [
    "df.sample(5)"
   ]
  },
  {
   "cell_type": "code",
   "execution_count": 12,
   "metadata": {
    "collapsed": false,
    "deletable": true,
    "editable": true
   },
   "outputs": [
    {
     "data": {
      "text/plain": [
       "229"
      ]
     },
     "execution_count": 12,
     "metadata": {},
     "output_type": "execute_result"
    }
   ],
   "source": [
    "len(df.columns)"
   ]
  },
  {
   "cell_type": "code",
   "execution_count": 13,
   "metadata": {
    "collapsed": false,
    "deletable": true,
    "editable": true
   },
   "outputs": [
    {
     "data": {
      "text/plain": [
       "['state',\n",
       " 'vendor_state_code',\n",
       " 'statecode',\n",
       " 'pop_state_code',\n",
       " 'stategovernmentflag',\n",
       " 'isstatecontrolledinstitutionofhigherlearning',\n",
       " 'isinterstateentity']"
      ]
     },
     "execution_count": 13,
     "metadata": {},
     "output_type": "execute_result"
    }
   ],
   "source": [
    "[c for c in df.columns if 'state' in c]"
   ]
  },
  {
   "cell_type": "code",
   "execution_count": 14,
   "metadata": {
    "collapsed": false,
    "deletable": true,
    "editable": true
   },
   "outputs": [
    {
     "name": "stdout",
     "output_type": "stream",
     "text": [
      "Data saved to data_in/spending_corrections_corporation_of_america.tsv.gz\n"
     ]
    }
   ],
   "source": [
    "outfile = data_in + '_' + companies[0].replace(' ', '_').lower() + '.tsv.gz'\n",
    "df.to_csv(outfile, sep='\\t', compression='gzip', index=False)\n",
    "print(\"Data saved to {}\".format(outfile))"
   ]
  },
  {
   "cell_type": "code",
   "execution_count": 32,
   "metadata": {
    "collapsed": false,
    "deletable": true,
    "editable": true
   },
   "outputs": [
    {
     "data": {
      "text/plain": [
       "array([2000, 2001, 2002, 2003, 2004, 2005, 2006, 2007, 2008, 2009, 2010,\n",
       "       2011, 2012, 2013, 2014, 2015, 2016, 2017])"
      ]
     },
     "execution_count": 32,
     "metadata": {},
     "output_type": "execute_result"
    }
   ],
   "source": [
    "df['contract_year'].unique()"
   ]
  },
  {
   "cell_type": "code",
   "execution_count": null,
   "metadata": {
    "collapsed": true,
    "deletable": true,
    "editable": true
   },
   "outputs": [],
   "source": []
  }
 ],
 "metadata": {
  "kernelspec": {
   "display_name": "Python 3",
   "language": "python",
   "name": "python3"
  },
  "language_info": {
   "codemirror_mode": {
    "name": "ipython",
    "version": 3
   },
   "file_extension": ".py",
   "mimetype": "text/x-python",
   "name": "python",
   "nbconvert_exporter": "python",
   "pygments_lexer": "ipython3",
   "version": "3.6.1"
  }
 },
 "nbformat": 4,
 "nbformat_minor": 2
}
