{
 "cells": [
  {
   "cell_type": "markdown",
   "metadata": {},
   "source": [
    "# Auditing Federal Contractors Part III\n",
    "_By [Leon Yin](leonyin.org) Last Updated 2018-06-24_\n",
    "\n",
    "View this notebook in [NBViewer](http://nbviewer.jupyter.org/github/yinleon/us-spending/blob/master/2_ice_money.ipynb) or [Github](https://github.com/yinleon/us-spending/blob/master/2_ice_money.ipynb) "
   ]
  },
  {
   "cell_type": "markdown",
   "metadata": {},
   "source": [
    "## ICE Contractor Analysis\n",
    "Following [my analysis](https://nbviewer.jupyter.org/github/yinleon/us-spending/blob/master/1_analysis_methods.ipynb) of federal contracts to the private prisons CoreCivic and Geo Group, this notebook analyzes publically avaiable contracts from the Immigration and Customs Enforcement Agency (ICE). This analysis uses data downloaded from the new USASpending.gov [dashboard](https://www.usaspending.gov/#/search/1da7f3124d80741313219fd741632538)  \"U.S. Immigration and Customs Enforcement (ICE) | Sub-Agency\" in the Fudning Agency field."
   ]
  },
  {
   "cell_type": "code",
   "execution_count": 67,
   "metadata": {},
   "outputs": [],
   "source": [
    "import glob\n",
    "import datetime\n",
    "import pandas as pd"
   ]
  },
  {
   "cell_type": "code",
   "execution_count": 59,
   "metadata": {},
   "outputs": [],
   "source": [
    "# data downloaded from USAspending.gov\n",
    "input_file_pattern = 'ice_data/data_in/*'"
   ]
  },
  {
   "cell_type": "code",
   "execution_count": 62,
   "metadata": {},
   "outputs": [
    {
     "data": {
      "text/plain": [
       "['ice_data/data_in/all_contracts_subawards_1.csv',\n",
       " 'ice_data/data_in/all_assistance_prime_transactions_1.csv',\n",
       " 'ice_data/data_in/all_contracts_prime_transactions_1.csv',\n",
       " 'ice_data/data_in/all_assistance_subawards_1.csv']"
      ]
     },
     "execution_count": 62,
     "metadata": {},
     "output_type": "execute_result"
    }
   ],
   "source": [
    "files = glob.glob(input_file_pattern)\n",
    "files"
   ]
  },
  {
   "cell_type": "markdown",
   "metadata": {},
   "source": [
    "Let's just look at prime contracts today."
   ]
  },
  {
   "cell_type": "code",
   "execution_count": 5,
   "metadata": {},
   "outputs": [
    {
     "name": "stderr",
     "output_type": "stream",
     "text": [
      "/anaconda3/lib/python3.6/site-packages/IPython/core/interactiveshell.py:2698: DtypeWarning: Columns (19,32,38,46,47,48,49,56,65,78,79,87,106,107,135,136,204) have mixed types. Specify dtype option on import or set low_memory=False.\n",
      "  interactivity=interactivity, compiler=compiler, result=result)\n"
     ]
    }
   ],
   "source": [
    "df_prime_contracts = pd.read_csv(files[2])"
   ]
  },
  {
   "cell_type": "code",
   "execution_count": 86,
   "metadata": {},
   "outputs": [
    {
     "name": "stdout",
     "output_type": "stream",
     "text": [
      "There are 258 columns in this file!\n",
      "Here are some of the column names:\n"
     ]
    },
    {
     "data": {
      "text/plain": [
       "['award_id_piid',\n",
       " 'modification_number',\n",
       " 'transaction_number',\n",
       " 'parent_award_agency_id',\n",
       " 'parent_award_agency_name',\n",
       " 'parent_award_id',\n",
       " 'parent_award_modification_number',\n",
       " 'federal_action_obligation',\n",
       " 'base_and_exercised_options_value',\n",
       " 'current_total_value_of_award',\n",
       " 'base_and_all_options_value',\n",
       " 'potential_total_value_of_award',\n",
       " 'action_date',\n",
       " 'period_of_performance_start_date',\n",
       " 'period_of_performance_current_end_date',\n",
       " 'period_of_performance_potential_end_date',\n",
       " 'ordering_period_end_date',\n",
       " 'awarding_agency_code',\n",
       " 'awarding_agency_name',\n",
       " 'awarding_sub_agency_code']"
      ]
     },
     "execution_count": 86,
     "metadata": {},
     "output_type": "execute_result"
    }
   ],
   "source": [
    "# there are a lot of columns!\n",
    "prime_cols = df_prime_contracts.columns\n",
    "num_cols = len(prime_cols)\n",
    "print(f\"There are {num_cols} columns in this file!\\nHere are some of the column names:\")\n",
    "prime_cols.values.tolist()[:20]"
   ]
  },
  {
   "cell_type": "markdown",
   "metadata": {},
   "source": [
    "That is a lot of columns, here are the definitions of the columns we'll be using here:"
   ]
  },
  {
   "cell_type": "markdown",
   "metadata": {},
   "source": [
    "## Glossary of fields used in this Analysis with Definitions from USASpending:\n",
    "`recipient_duns`<br>\n",
    "The unique identification number for the ultimate parent of an awardee or recipient. Currently the identifier is the 9-digit number maintained by Dun & Bradstreet as the global parent DUNS® number.\n",
    "\n",
    "\n",
    "\n",
    "`potential_total_value_of_award`<br>\n",
    "The total amount that could be obligated on a contract. This total includes the base plus options amount. For example, if a recipient is awarded 10M on a base contract with 3 option years at 1M each, the potential award amount is 13M.\n",
    "\n",
    "`current_total_value_of_award` <br>\n",
    "The amount of money that the government has promised (obligated) to pay a recipient for a contract. This means the base amount and any exercised options.\n",
    "\n",
    "`period_of_performance_start_date`<br>\n",
    "The date that the award begins.\n",
    "\n",
    "`period_of_performance_potential_end_date`<br>\n",
    "For procurement, the date on which, for the award referred to by the action being reported if all potential pre-determined or pre-negotiated options were exercised, awardee effort is completed or the award is otherwise ended. Administrative actions related to this award may continue to occur after this date. This date does not apply to procurement indefinite delivery vehicles under which definitive orders may be awarded.\n",
    "\n",
    "<hr>\n",
    "\n",
    "Thanks for providing that glossary USASpending, let's do some minor data wrangling and get some summary statistics."
   ]
  },
  {
   "cell_type": "code",
   "execution_count": 39,
   "metadata": {},
   "outputs": [],
   "source": [
    "date_cols = ['period_of_performance_start_date', 'period_of_performance_potential_end_date']\n",
    "for col in date_cols:\n",
    "    df_prime_contracts[col] = pd.to_datetime(df_prime_contracts[col])"
   ]
  },
  {
   "cell_type": "code",
   "execution_count": 90,
   "metadata": {},
   "outputs": [
    {
     "name": "stdout",
     "output_type": "stream",
     "text": [
      "ICE has invesed $76,815,594,715.20 in contracts with 4294 Prime contractors since 2004-10-01.\n",
      "ICE has $50,376,993,084.23 in potential payouts with active contracts.\n"
     ]
    }
   ],
   "source": [
    "total_spend = df_prime_contracts['current_total_value_of_award'].sum()\n",
    "potential_spend = df_prime_contracts['potential_total_value_of_award'].sum()\n",
    "at_stake =  potential_spend - total_spend\n",
    "\n",
    "num_contractors = len(df_prime_contracts['recipient_duns'].unique())\n",
    "first_contract = df_prime_contracts['period_of_performance_start_date'].min().strftime('%Y-%m-%d')\n",
    "print(\"ICE has invesed ${:,.2f} in contracts with {} Prime contractors \"\n",
    "      \"since {}.\\nICE has ${:,.2f} in potential payouts with active contracts.\".format(\n",
    "          total_spend, num_contractors, first_contract, at_stake))"
   ]
  },
  {
   "cell_type": "markdown",
   "metadata": {},
   "source": [
    "Let's sort this data by the contract end date"
   ]
  },
  {
   "cell_type": "code",
   "execution_count": 41,
   "metadata": {},
   "outputs": [],
   "source": [
    "df_prime_contracts.sort_values(by=['period_of_performance_potential_end_date'], \n",
    "                               ascending=False, \n",
    "                               inplace=True)"
   ]
  },
  {
   "cell_type": "markdown",
   "metadata": {},
   "source": [
    "There are typos in the recipient names, so let's use their DUNs IDs for aggregate analysis.<br>\n",
    "We can create a `lookup_table` containing the latest name and contact info"
   ]
  },
  {
   "cell_type": "code",
   "execution_count": 42,
   "metadata": {},
   "outputs": [],
   "source": [
    "lookup_cols = [\n",
    "    'recipient_parent_duns',\n",
    "    'recipient_parent_name', \n",
    "    'recipient_address_line_1', \n",
    "    'recipient_address_line_2',\n",
    "    'recipient_city_name', \n",
    "    'recipient_state_code', \n",
    "    'recipient_state_name',\n",
    "    'recipient_zip_4_code', \n",
    "    'recipient_congressional_district',\n",
    "    'recipient_phone_number', \n",
    "    'recipient_fax_number'\n",
    "]"
   ]
  },
  {
   "cell_type": "code",
   "execution_count": 43,
   "metadata": {},
   "outputs": [],
   "source": [
    "lookup_table = df_prime_contracts.drop_duplicates(\n",
    "    subset = ['recipient_parent_duns']\n",
    ")[lookup_cols]"
   ]
  },
  {
   "cell_type": "markdown",
   "metadata": {},
   "source": [
    "Now let's get how much each company has been rewarded, how much they have the potential to be rewarded, how many awards they're been granted, and when their contracts are finished. This code is chained, and kind of messy. Each line aggreagates by the recipient ID, and performs some sort of agg function, and then sorts the values according to the total of the agg function."
   ]
  },
  {
   "cell_type": "code",
   "execution_count": 44,
   "metadata": {},
   "outputs": [],
   "source": [
    "contract_amounts = (df_prime_contracts.groupby(\n",
    "    ['recipient_parent_duns'])\n",
    "    ['current_total_value_of_award'].sum()\n",
    "    .sort_values(ascending=False))"
   ]
  },
  {
   "cell_type": "code",
   "execution_count": 45,
   "metadata": {},
   "outputs": [],
   "source": [
    "contract_potential = (df_prime_contracts.groupby(\n",
    "    ['recipient_parent_duns'])\n",
    "    ['potential_total_value_of_award'].sum()\n",
    "    .sort_values(ascending=False))"
   ]
  },
  {
   "cell_type": "code",
   "execution_count": 46,
   "metadata": {},
   "outputs": [],
   "source": [
    "num_awards = (df_prime_contracts.groupby(\n",
    "    ['recipient_parent_duns'])\n",
    "    ['current_total_value_of_award'].count()\n",
    "    .sort_values(ascending=False))"
   ]
  },
  {
   "cell_type": "code",
   "execution_count": 47,
   "metadata": {},
   "outputs": [],
   "source": [
    "contract_enddate = (df_prime_contracts[\n",
    "    ~df_prime_contracts['period_of_performance_potential_end_date'].isnull()]\n",
    "    .groupby(['recipient_parent_duns'])\n",
    "    ['period_of_performance_potential_end_date'].max()\n",
    "    .sort_values(ascending=False))"
   ]
  },
  {
   "cell_type": "code",
   "execution_count": 48,
   "metadata": {},
   "outputs": [],
   "source": [
    "contract_startdate = (df_prime_contracts[\n",
    "    ~df_prime_contracts['period_of_performance_start_date'].isnull()]\n",
    "    .groupby(['recipient_parent_duns'])\n",
    "    ['period_of_performance_start_date'].min()\n",
    "    .sort_values(ascending=False))"
   ]
  },
  {
   "cell_type": "markdown",
   "metadata": {},
   "source": [
    "We can join them all together using this craziness below:"
   ]
  },
  {
   "cell_type": "code",
   "execution_count": 69,
   "metadata": {},
   "outputs": [],
   "source": [
    "output = (contract_amounts.reset_index()\n",
    "          .merge(\n",
    "            num_awards.reset_index(), on='recipient_parent_duns')\n",
    "          .merge(\n",
    "            contract_potential.reset_index(), on='recipient_parent_duns')\n",
    "          .merge(\n",
    "            contract_enddate.reset_index(), on='recipient_parent_duns')\n",
    "          .merge(\n",
    "            contract_startdate.reset_index(), on='recipient_parent_duns')\n",
    "          .merge(\n",
    "            lookup_table))"
   ]
  },
  {
   "cell_type": "markdown",
   "metadata": {},
   "source": [
    "The last merge above is the look_up table, containing metadata for each recipient.<br>\n",
    "Let's change some of the aggregate column names to be more decriptive:"
   ]
  },
  {
   "cell_type": "code",
   "execution_count": 70,
   "metadata": {},
   "outputs": [],
   "source": [
    "remapping = {\n",
    "    'current_total_value_of_award_x' : 'current_total_value_of_awards_USD',\n",
    "    'current_total_value_of_award_y' : 'number_of_prime_awards',\n",
    "    'potential_total_value_of_award' : 'potential_total_value_of_awards',\n",
    "    'period_of_performance_potential_end_date' : 'last_contract_end_date',\n",
    "    'period_of_performance_start_date' : 'first_contract_start_date'\n",
    "}"
   ]
  },
  {
   "cell_type": "code",
   "execution_count": 71,
   "metadata": {},
   "outputs": [],
   "source": [
    "output.columns = [remapping.get(c, c) for c in output.columns]"
   ]
  },
  {
   "cell_type": "markdown",
   "metadata": {},
   "source": [
    "Let's timestamp when this file was made."
   ]
  },
  {
   "cell_type": "code",
   "execution_count": 75,
   "metadata": {},
   "outputs": [],
   "source": [
    "output['analysis_date'] = datetime.datetime.now() # when was this file made?\n",
    "output['raw_data_download_date'] = datetime.datetime(2018,6,24) # when was raw data downloaded?"
   ]
  },
  {
   "cell_type": "markdown",
   "metadata": {},
   "source": [
    "And lastly, let's re-order the columns so they're readable"
   ]
  },
  {
   "cell_type": "code",
   "execution_count": 76,
   "metadata": {},
   "outputs": [],
   "source": [
    "order_cols = [\n",
    "    'recipient_parent_name',\n",
    "    'number_of_prime_awards',\n",
    "    'current_total_value_of_awards_USD',\n",
    "    'potential_total_value_of_awards',\n",
    "    'first_contract_start_date',\n",
    "    'last_contract_end_date',\n",
    "    'recipient_address_line_1',\n",
    "    'recipient_address_line_2',\n",
    "    'recipient_city_name', \n",
    "    'recipient_state_code', \n",
    "    'recipient_state_name',\n",
    "    'recipient_zip_4_code',\n",
    "    'recipient_congressional_district',\n",
    "    'recipient_phone_number', \n",
    "    'recipient_fax_number',\n",
    "    'analysis_date',\n",
    "    'raw_data_download_date'\n",
    "]"
   ]
  },
  {
   "cell_type": "markdown",
   "metadata": {},
   "source": [
    "Here is the output:"
   ]
  },
  {
   "cell_type": "code",
   "execution_count": 77,
   "metadata": {},
   "outputs": [
    {
     "data": {
      "text/html": [
       "<div>\n",
       "<table border=\"1\" class=\"dataframe\">\n",
       "  <thead>\n",
       "    <tr style=\"text-align: right;\">\n",
       "      <th></th>\n",
       "      <th>recipient_parent_name</th>\n",
       "      <th>number_of_prime_awards</th>\n",
       "      <th>current_total_value_of_awards_USD</th>\n",
       "      <th>potential_total_value_of_awards</th>\n",
       "      <th>first_contract_start_date</th>\n",
       "      <th>last_contract_end_date</th>\n",
       "      <th>recipient_address_line_1</th>\n",
       "      <th>recipient_address_line_2</th>\n",
       "      <th>recipient_city_name</th>\n",
       "      <th>recipient_state_code</th>\n",
       "      <th>recipient_state_name</th>\n",
       "      <th>recipient_zip_4_code</th>\n",
       "      <th>recipient_congressional_district</th>\n",
       "      <th>recipient_phone_number</th>\n",
       "      <th>recipient_fax_number</th>\n",
       "      <th>analysis_date</th>\n",
       "      <th>raw_data_download_date</th>\n",
       "    </tr>\n",
       "  </thead>\n",
       "  <tbody>\n",
       "    <tr>\n",
       "      <th>0</th>\n",
       "      <td>BATTELLE MEMORIAL INSTITUTE INC</td>\n",
       "      <td>1</td>\n",
       "      <td>2.258840e+10</td>\n",
       "      <td>2.258840e+10</td>\n",
       "      <td>2016-05-27</td>\n",
       "      <td>2017-09-30</td>\n",
       "      <td>902 BATTELLE BLVD</td>\n",
       "      <td>NaN</td>\n",
       "      <td>RICHLAND</td>\n",
       "      <td>WA</td>\n",
       "      <td>WASHINGTON</td>\n",
       "      <td>993521873</td>\n",
       "      <td>NaN</td>\n",
       "      <td>NaN</td>\n",
       "      <td>NaN</td>\n",
       "      <td>2018-06-24 15:39:12.987085</td>\n",
       "      <td>2018-06-24</td>\n",
       "    </tr>\n",
       "    <tr>\n",
       "      <th>1</th>\n",
       "      <td>SPECTRUM SECURITY SERVICES  INC.</td>\n",
       "      <td>128</td>\n",
       "      <td>1.731890e+10</td>\n",
       "      <td>1.902971e+10</td>\n",
       "      <td>2008-09-08</td>\n",
       "      <td>2018-12-11</td>\n",
       "      <td>13967 HIGHWAY 94 STE 101</td>\n",
       "      <td>NaN</td>\n",
       "      <td>JAMUL</td>\n",
       "      <td>CA</td>\n",
       "      <td>CALIFORNIA</td>\n",
       "      <td>919353232</td>\n",
       "      <td>50</td>\n",
       "      <td>NaN</td>\n",
       "      <td>NaN</td>\n",
       "      <td>2018-06-24 15:39:12.987085</td>\n",
       "      <td>2018-06-24</td>\n",
       "    </tr>\n",
       "    <tr>\n",
       "      <th>2</th>\n",
       "      <td>CSI AVIATION SERVICES  INC.</td>\n",
       "      <td>63</td>\n",
       "      <td>5.897378e+09</td>\n",
       "      <td>7.426944e+09</td>\n",
       "      <td>2009-10-05</td>\n",
       "      <td>2018-06-30</td>\n",
       "      <td>3700 RIO GRANDE BLVD NW</td>\n",
       "      <td>NaN</td>\n",
       "      <td>ALBUQUERQUE</td>\n",
       "      <td>NM</td>\n",
       "      <td>NEW MEXICO</td>\n",
       "      <td>871072876</td>\n",
       "      <td>1</td>\n",
       "      <td>5057619000</td>\n",
       "      <td>5053427377</td>\n",
       "      <td>2018-06-24 15:39:12.987085</td>\n",
       "      <td>2018-06-24</td>\n",
       "    </tr>\n",
       "    <tr>\n",
       "      <th>3</th>\n",
       "      <td>INGENESIS INC.</td>\n",
       "      <td>20</td>\n",
       "      <td>3.530665e+09</td>\n",
       "      <td>4.874056e+09</td>\n",
       "      <td>2012-07-16</td>\n",
       "      <td>2018-07-15</td>\n",
       "      <td>10231 KOTZEBUE ST</td>\n",
       "      <td>NaN</td>\n",
       "      <td>SAN ANTONIO</td>\n",
       "      <td>TX</td>\n",
       "      <td>TEXAS</td>\n",
       "      <td>782174430</td>\n",
       "      <td>21</td>\n",
       "      <td>2103660033</td>\n",
       "      <td>2105684582</td>\n",
       "      <td>2018-06-24 15:39:12.987085</td>\n",
       "      <td>2018-06-24</td>\n",
       "    </tr>\n",
       "    <tr>\n",
       "      <th>4</th>\n",
       "      <td>THE GEO GROUP INC</td>\n",
       "      <td>115</td>\n",
       "      <td>3.335807e+09</td>\n",
       "      <td>1.663010e+10</td>\n",
       "      <td>2007-06-01</td>\n",
       "      <td>2029-10-11</td>\n",
       "      <td>621 NW 53RD ST STE 700</td>\n",
       "      <td>NaN</td>\n",
       "      <td>BOCA RATON</td>\n",
       "      <td>FL</td>\n",
       "      <td>FLORIDA</td>\n",
       "      <td>334878242</td>\n",
       "      <td>22</td>\n",
       "      <td>5619997359</td>\n",
       "      <td>5619997648</td>\n",
       "      <td>2018-06-24 15:39:12.987085</td>\n",
       "      <td>2018-06-24</td>\n",
       "    </tr>\n",
       "    <tr>\n",
       "      <th>5</th>\n",
       "      <td>PHACIL  INC.</td>\n",
       "      <td>47</td>\n",
       "      <td>2.889115e+09</td>\n",
       "      <td>3.027381e+09</td>\n",
       "      <td>2012-09-10</td>\n",
       "      <td>2018-09-09</td>\n",
       "      <td>800 N GLEBE RD STE 700</td>\n",
       "      <td>NaN</td>\n",
       "      <td>ARLINGTON</td>\n",
       "      <td>VA</td>\n",
       "      <td>VIRGINIA</td>\n",
       "      <td>222032149</td>\n",
       "      <td>8</td>\n",
       "      <td>7035261800</td>\n",
       "      <td>7033662900</td>\n",
       "      <td>2018-06-24 15:39:12.987085</td>\n",
       "      <td>2018-06-24</td>\n",
       "    </tr>\n",
       "    <tr>\n",
       "      <th>6</th>\n",
       "      <td>SPECTRUM SECURITY SERVICES  INC.</td>\n",
       "      <td>13</td>\n",
       "      <td>1.864530e+09</td>\n",
       "      <td>1.997933e+09</td>\n",
       "      <td>2011-12-21</td>\n",
       "      <td>2016-02-29</td>\n",
       "      <td>13967 HIGHWAY 94 STE 101</td>\n",
       "      <td>NaN</td>\n",
       "      <td>JAMUL</td>\n",
       "      <td>CA</td>\n",
       "      <td>CALIFORNIA</td>\n",
       "      <td>919353232</td>\n",
       "      <td>52</td>\n",
       "      <td>NaN</td>\n",
       "      <td>NaN</td>\n",
       "      <td>2018-06-24 15:39:12.987085</td>\n",
       "      <td>2018-06-24</td>\n",
       "    </tr>\n",
       "    <tr>\n",
       "      <th>7</th>\n",
       "      <td>ASSET PROTECTION &amp; SECURITY SERVICES  L.P.</td>\n",
       "      <td>19</td>\n",
       "      <td>1.400854e+09</td>\n",
       "      <td>1.633666e+09</td>\n",
       "      <td>2009-09-30</td>\n",
       "      <td>2018-09-30</td>\n",
       "      <td>5502 BURNHAM DR</td>\n",
       "      <td>NaN</td>\n",
       "      <td>CORPUS CHRISTI</td>\n",
       "      <td>TX</td>\n",
       "      <td>TEXAS</td>\n",
       "      <td>784133787</td>\n",
       "      <td>27</td>\n",
       "      <td>3619061552</td>\n",
       "      <td>3619061844</td>\n",
       "      <td>2018-06-24 15:39:12.987085</td>\n",
       "      <td>2018-06-24</td>\n",
       "    </tr>\n",
       "    <tr>\n",
       "      <th>8</th>\n",
       "      <td>WIDEPOINT CORPORATION</td>\n",
       "      <td>25</td>\n",
       "      <td>1.318187e+09</td>\n",
       "      <td>5.204160e+09</td>\n",
       "      <td>2015-04-09</td>\n",
       "      <td>2018-12-08</td>\n",
       "      <td>7926 JONES BRANCH DR STE 520</td>\n",
       "      <td>NaN</td>\n",
       "      <td>MC LEAN</td>\n",
       "      <td>VA</td>\n",
       "      <td>VIRGINIA</td>\n",
       "      <td>221023371</td>\n",
       "      <td>11</td>\n",
       "      <td>7033495644</td>\n",
       "      <td>7038483560</td>\n",
       "      <td>2018-06-24 15:39:12.987085</td>\n",
       "      <td>2018-06-24</td>\n",
       "    </tr>\n",
       "    <tr>\n",
       "      <th>9</th>\n",
       "      <td>TRAILBOSS ENTERPRISES  INC.</td>\n",
       "      <td>13</td>\n",
       "      <td>1.266682e+09</td>\n",
       "      <td>3.871661e+09</td>\n",
       "      <td>2012-06-01</td>\n",
       "      <td>2018-09-30</td>\n",
       "      <td>201 EAST 3RD AVE</td>\n",
       "      <td>NaN</td>\n",
       "      <td>ANCHORAGE</td>\n",
       "      <td>AK</td>\n",
       "      <td>ALASKA</td>\n",
       "      <td>995012503</td>\n",
       "      <td>00</td>\n",
       "      <td>9073388243</td>\n",
       "      <td>9073380869</td>\n",
       "      <td>2018-06-24 15:39:12.987085</td>\n",
       "      <td>2018-06-24</td>\n",
       "    </tr>\n",
       "  </tbody>\n",
       "</table>\n",
       "</div>"
      ],
      "text/plain": [
       "                        recipient_parent_name  number_of_prime_awards  \\\n",
       "0             BATTELLE MEMORIAL INSTITUTE INC                       1   \n",
       "1            SPECTRUM SECURITY SERVICES  INC.                     128   \n",
       "2                 CSI AVIATION SERVICES  INC.                      63   \n",
       "3                              INGENESIS INC.                      20   \n",
       "4                           THE GEO GROUP INC                     115   \n",
       "5                                PHACIL  INC.                      47   \n",
       "6            SPECTRUM SECURITY SERVICES  INC.                      13   \n",
       "7  ASSET PROTECTION & SECURITY SERVICES  L.P.                      19   \n",
       "8                       WIDEPOINT CORPORATION                      25   \n",
       "9                 TRAILBOSS ENTERPRISES  INC.                      13   \n",
       "\n",
       "   current_total_value_of_awards_USD  potential_total_value_of_awards  \\\n",
       "0                       2.258840e+10                     2.258840e+10   \n",
       "1                       1.731890e+10                     1.902971e+10   \n",
       "2                       5.897378e+09                     7.426944e+09   \n",
       "3                       3.530665e+09                     4.874056e+09   \n",
       "4                       3.335807e+09                     1.663010e+10   \n",
       "5                       2.889115e+09                     3.027381e+09   \n",
       "6                       1.864530e+09                     1.997933e+09   \n",
       "7                       1.400854e+09                     1.633666e+09   \n",
       "8                       1.318187e+09                     5.204160e+09   \n",
       "9                       1.266682e+09                     3.871661e+09   \n",
       "\n",
       "  first_contract_start_date last_contract_end_date  \\\n",
       "0                2016-05-27             2017-09-30   \n",
       "1                2008-09-08             2018-12-11   \n",
       "2                2009-10-05             2018-06-30   \n",
       "3                2012-07-16             2018-07-15   \n",
       "4                2007-06-01             2029-10-11   \n",
       "5                2012-09-10             2018-09-09   \n",
       "6                2011-12-21             2016-02-29   \n",
       "7                2009-09-30             2018-09-30   \n",
       "8                2015-04-09             2018-12-08   \n",
       "9                2012-06-01             2018-09-30   \n",
       "\n",
       "       recipient_address_line_1 recipient_address_line_2 recipient_city_name  \\\n",
       "0             902 BATTELLE BLVD                      NaN            RICHLAND   \n",
       "1      13967 HIGHWAY 94 STE 101                      NaN               JAMUL   \n",
       "2       3700 RIO GRANDE BLVD NW                      NaN         ALBUQUERQUE   \n",
       "3             10231 KOTZEBUE ST                      NaN         SAN ANTONIO   \n",
       "4        621 NW 53RD ST STE 700                      NaN          BOCA RATON   \n",
       "5        800 N GLEBE RD STE 700                      NaN           ARLINGTON   \n",
       "6      13967 HIGHWAY 94 STE 101                      NaN               JAMUL   \n",
       "7               5502 BURNHAM DR                      NaN      CORPUS CHRISTI   \n",
       "8  7926 JONES BRANCH DR STE 520                      NaN             MC LEAN   \n",
       "9              201 EAST 3RD AVE                      NaN           ANCHORAGE   \n",
       "\n",
       "  recipient_state_code recipient_state_name recipient_zip_4_code  \\\n",
       "0                   WA           WASHINGTON            993521873   \n",
       "1                   CA           CALIFORNIA            919353232   \n",
       "2                   NM           NEW MEXICO            871072876   \n",
       "3                   TX                TEXAS            782174430   \n",
       "4                   FL              FLORIDA            334878242   \n",
       "5                   VA             VIRGINIA            222032149   \n",
       "6                   CA           CALIFORNIA            919353232   \n",
       "7                   TX                TEXAS            784133787   \n",
       "8                   VA             VIRGINIA            221023371   \n",
       "9                   AK               ALASKA            995012503   \n",
       "\n",
       "  recipient_congressional_district recipient_phone_number  \\\n",
       "0                              NaN                    NaN   \n",
       "1                               50                    NaN   \n",
       "2                                1             5057619000   \n",
       "3                               21             2103660033   \n",
       "4                               22             5619997359   \n",
       "5                                8             7035261800   \n",
       "6                               52                    NaN   \n",
       "7                               27             3619061552   \n",
       "8                               11             7033495644   \n",
       "9                               00             9073388243   \n",
       "\n",
       "  recipient_fax_number              analysis_date raw_data_download_date  \n",
       "0                  NaN 2018-06-24 15:39:12.987085             2018-06-24  \n",
       "1                  NaN 2018-06-24 15:39:12.987085             2018-06-24  \n",
       "2           5053427377 2018-06-24 15:39:12.987085             2018-06-24  \n",
       "3           2105684582 2018-06-24 15:39:12.987085             2018-06-24  \n",
       "4           5619997648 2018-06-24 15:39:12.987085             2018-06-24  \n",
       "5           7033662900 2018-06-24 15:39:12.987085             2018-06-24  \n",
       "6                  NaN 2018-06-24 15:39:12.987085             2018-06-24  \n",
       "7           3619061844 2018-06-24 15:39:12.987085             2018-06-24  \n",
       "8           7038483560 2018-06-24 15:39:12.987085             2018-06-24  \n",
       "9           9073380869 2018-06-24 15:39:12.987085             2018-06-24  "
      ]
     },
     "execution_count": 77,
     "metadata": {},
     "output_type": "execute_result"
    }
   ],
   "source": [
    "output[order_cols].head(10)"
   ]
  },
  {
   "cell_type": "markdown",
   "metadata": {},
   "source": [
    "Let's save this as a csv."
   ]
  },
  {
   "cell_type": "code",
   "execution_count": 79,
   "metadata": {},
   "outputs": [],
   "source": [
    "outfile = 'ice_data/data_out/ice_prime_contractors_aggregated.csv'\n",
    "output[order_cols].to_csv(outfile, index=False)"
   ]
  }
 ],
 "metadata": {
  "kernelspec": {
   "display_name": "Python 3",
   "language": "python",
   "name": "python3"
  },
  "language_info": {
   "codemirror_mode": {
    "name": "ipython",
    "version": 3
   },
   "file_extension": ".py",
   "mimetype": "text/x-python",
   "name": "python",
   "nbconvert_exporter": "python",
   "pygments_lexer": "ipython3",
   "version": "3.6.2"
  }
 },
 "nbformat": 4,
 "nbformat_minor": 2
}
